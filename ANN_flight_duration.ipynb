{
  "nbformat": 4,
  "nbformat_minor": 0,
  "metadata": {
    "colab": {
      "provenance": [],
      "gpuType": "T4",
      "authorship_tag": "ABX9TyMBknSqvO0XhShxrcS5zUM1",
      "include_colab_link": true
    },
    "kernelspec": {
      "name": "python3",
      "display_name": "Python 3"
    },
    "language_info": {
      "name": "python"
    },
    "accelerator": "GPU"
  },
  "cells": [
    {
      "cell_type": "markdown",
      "metadata": {
        "id": "view-in-github",
        "colab_type": "text"
      },
      "source": [
        "<a href=\"https://colab.research.google.com/github/unnibr1777/Flight_Delay_Recommendation_ANN/blob/main/ANN_flight_duration.ipynb\" target=\"_parent\"><img src=\"https://colab.research.google.com/assets/colab-badge.svg\" alt=\"Open In Colab\"/></a>"
      ]
    },
    {
      "cell_type": "code",
      "execution_count": null,
      "metadata": {
        "id": "1c83-i4nXHzl"
      },
      "outputs": [],
      "source": [
        "from google.colab import drive"
      ]
    },
    {
      "cell_type": "code",
      "source": [
        "drive.mount(\"/content/drive\")"
      ],
      "metadata": {
        "colab": {
          "base_uri": "https://localhost:8080/"
        },
        "id": "7LwnHvTyYRth",
        "outputId": "8cbebe27-979c-4e9c-a01d-a85203113e72"
      },
      "execution_count": null,
      "outputs": [
        {
          "output_type": "stream",
          "name": "stdout",
          "text": [
            "Mounted at /content/drive\n"
          ]
        }
      ]
    },
    {
      "cell_type": "code",
      "source": [
        "import pandas as pd\n",
        "import numpy as np"
      ],
      "metadata": {
        "id": "rLA-S58UYV3n"
      },
      "execution_count": null,
      "outputs": []
    },
    {
      "cell_type": "code",
      "source": [
        "df = pd.read_csv(\"/content/drive/MyDrive/Colab Notebooks/Flight Delay Recommendation/T_ONTIME_REPORTING.csv\")#, names=column_names)"
      ],
      "metadata": {
        "id": "NIzzkrfxYjyK"
      },
      "execution_count": null,
      "outputs": []
    },
    {
      "cell_type": "code",
      "source": [
        "df.head(5)"
      ],
      "metadata": {
        "colab": {
          "base_uri": "https://localhost:8080/",
          "height": 473
        },
        "id": "9W7PiVHfYnD8",
        "outputId": "54a311c5-bab9-4e35-9a65-aebc6aebecaf"
      },
      "execution_count": null,
      "outputs": [
        {
          "output_type": "execute_result",
          "data": {
            "text/plain": [
              "   YEAR  QUARTER  MONTH  DAY_OF_MONTH  DAY_OF_WEEK               FL_DATE  \\\n",
              "0  2023        1      1             1            7  1/1/2023 12:00:00 AM   \n",
              "1  2023        1      1             1            7  1/1/2023 12:00:00 AM   \n",
              "2  2023        1      1             1            7  1/1/2023 12:00:00 AM   \n",
              "3  2023        1      1             1            7  1/1/2023 12:00:00 AM   \n",
              "4  2023        1      1             1            7  1/1/2023 12:00:00 AM   \n",
              "\n",
              "  OP_UNIQUE_CARRIER  OP_CARRIER_AIRLINE_ID OP_CARRIER  OP_CARRIER_FL_NUM  ...  \\\n",
              "0                9E                  20363         9E               4647  ...   \n",
              "1                9E                  20363         9E               4650  ...   \n",
              "2                9E                  20363         9E               4650  ...   \n",
              "3                9E                  20363         9E               4654  ...   \n",
              "4                9E                  20363         9E               4663  ...   \n",
              "\n",
              "   CANCELLATION_CODE  DIVERTED  CRS_ELAPSED_TIME ACTUAL_ELAPSED_TIME AIR_TIME  \\\n",
              "0                NaN       0.0             122.0                97.0     72.0   \n",
              "1                NaN       0.0             117.0               107.0     82.0   \n",
              "2                NaN       0.0             146.0               119.0     91.0   \n",
              "3                NaN       0.0             141.0               123.0     89.0   \n",
              "4                NaN       0.0             208.0               203.0    174.0   \n",
              "\n",
              "   FLIGHTS  CARRIER_DELAY  WEATHER_DELAY SECURITY_DELAY  LATE_AIRCRAFT_DELAY  \n",
              "0      1.0            NaN            NaN            NaN                  NaN  \n",
              "1      1.0            NaN            NaN            NaN                  NaN  \n",
              "2      1.0            NaN            NaN            NaN                  NaN  \n",
              "3      1.0            NaN            NaN            NaN                  NaN  \n",
              "4      1.0            NaN            NaN            NaN                  NaN  \n",
              "\n",
              "[5 rows x 36 columns]"
            ],
            "text/html": [
              "\n",
              "\n",
              "  <div id=\"df-c75966ab-cd34-4abd-9384-1e37927d66dd\">\n",
              "    <div class=\"colab-df-container\">\n",
              "      <div>\n",
              "<style scoped>\n",
              "    .dataframe tbody tr th:only-of-type {\n",
              "        vertical-align: middle;\n",
              "    }\n",
              "\n",
              "    .dataframe tbody tr th {\n",
              "        vertical-align: top;\n",
              "    }\n",
              "\n",
              "    .dataframe thead th {\n",
              "        text-align: right;\n",
              "    }\n",
              "</style>\n",
              "<table border=\"1\" class=\"dataframe\">\n",
              "  <thead>\n",
              "    <tr style=\"text-align: right;\">\n",
              "      <th></th>\n",
              "      <th>YEAR</th>\n",
              "      <th>QUARTER</th>\n",
              "      <th>MONTH</th>\n",
              "      <th>DAY_OF_MONTH</th>\n",
              "      <th>DAY_OF_WEEK</th>\n",
              "      <th>FL_DATE</th>\n",
              "      <th>OP_UNIQUE_CARRIER</th>\n",
              "      <th>OP_CARRIER_AIRLINE_ID</th>\n",
              "      <th>OP_CARRIER</th>\n",
              "      <th>OP_CARRIER_FL_NUM</th>\n",
              "      <th>...</th>\n",
              "      <th>CANCELLATION_CODE</th>\n",
              "      <th>DIVERTED</th>\n",
              "      <th>CRS_ELAPSED_TIME</th>\n",
              "      <th>ACTUAL_ELAPSED_TIME</th>\n",
              "      <th>AIR_TIME</th>\n",
              "      <th>FLIGHTS</th>\n",
              "      <th>CARRIER_DELAY</th>\n",
              "      <th>WEATHER_DELAY</th>\n",
              "      <th>SECURITY_DELAY</th>\n",
              "      <th>LATE_AIRCRAFT_DELAY</th>\n",
              "    </tr>\n",
              "  </thead>\n",
              "  <tbody>\n",
              "    <tr>\n",
              "      <th>0</th>\n",
              "      <td>2023</td>\n",
              "      <td>1</td>\n",
              "      <td>1</td>\n",
              "      <td>1</td>\n",
              "      <td>7</td>\n",
              "      <td>1/1/2023 12:00:00 AM</td>\n",
              "      <td>9E</td>\n",
              "      <td>20363</td>\n",
              "      <td>9E</td>\n",
              "      <td>4647</td>\n",
              "      <td>...</td>\n",
              "      <td>NaN</td>\n",
              "      <td>0.0</td>\n",
              "      <td>122.0</td>\n",
              "      <td>97.0</td>\n",
              "      <td>72.0</td>\n",
              "      <td>1.0</td>\n",
              "      <td>NaN</td>\n",
              "      <td>NaN</td>\n",
              "      <td>NaN</td>\n",
              "      <td>NaN</td>\n",
              "    </tr>\n",
              "    <tr>\n",
              "      <th>1</th>\n",
              "      <td>2023</td>\n",
              "      <td>1</td>\n",
              "      <td>1</td>\n",
              "      <td>1</td>\n",
              "      <td>7</td>\n",
              "      <td>1/1/2023 12:00:00 AM</td>\n",
              "      <td>9E</td>\n",
              "      <td>20363</td>\n",
              "      <td>9E</td>\n",
              "      <td>4650</td>\n",
              "      <td>...</td>\n",
              "      <td>NaN</td>\n",
              "      <td>0.0</td>\n",
              "      <td>117.0</td>\n",
              "      <td>107.0</td>\n",
              "      <td>82.0</td>\n",
              "      <td>1.0</td>\n",
              "      <td>NaN</td>\n",
              "      <td>NaN</td>\n",
              "      <td>NaN</td>\n",
              "      <td>NaN</td>\n",
              "    </tr>\n",
              "    <tr>\n",
              "      <th>2</th>\n",
              "      <td>2023</td>\n",
              "      <td>1</td>\n",
              "      <td>1</td>\n",
              "      <td>1</td>\n",
              "      <td>7</td>\n",
              "      <td>1/1/2023 12:00:00 AM</td>\n",
              "      <td>9E</td>\n",
              "      <td>20363</td>\n",
              "      <td>9E</td>\n",
              "      <td>4650</td>\n",
              "      <td>...</td>\n",
              "      <td>NaN</td>\n",
              "      <td>0.0</td>\n",
              "      <td>146.0</td>\n",
              "      <td>119.0</td>\n",
              "      <td>91.0</td>\n",
              "      <td>1.0</td>\n",
              "      <td>NaN</td>\n",
              "      <td>NaN</td>\n",
              "      <td>NaN</td>\n",
              "      <td>NaN</td>\n",
              "    </tr>\n",
              "    <tr>\n",
              "      <th>3</th>\n",
              "      <td>2023</td>\n",
              "      <td>1</td>\n",
              "      <td>1</td>\n",
              "      <td>1</td>\n",
              "      <td>7</td>\n",
              "      <td>1/1/2023 12:00:00 AM</td>\n",
              "      <td>9E</td>\n",
              "      <td>20363</td>\n",
              "      <td>9E</td>\n",
              "      <td>4654</td>\n",
              "      <td>...</td>\n",
              "      <td>NaN</td>\n",
              "      <td>0.0</td>\n",
              "      <td>141.0</td>\n",
              "      <td>123.0</td>\n",
              "      <td>89.0</td>\n",
              "      <td>1.0</td>\n",
              "      <td>NaN</td>\n",
              "      <td>NaN</td>\n",
              "      <td>NaN</td>\n",
              "      <td>NaN</td>\n",
              "    </tr>\n",
              "    <tr>\n",
              "      <th>4</th>\n",
              "      <td>2023</td>\n",
              "      <td>1</td>\n",
              "      <td>1</td>\n",
              "      <td>1</td>\n",
              "      <td>7</td>\n",
              "      <td>1/1/2023 12:00:00 AM</td>\n",
              "      <td>9E</td>\n",
              "      <td>20363</td>\n",
              "      <td>9E</td>\n",
              "      <td>4663</td>\n",
              "      <td>...</td>\n",
              "      <td>NaN</td>\n",
              "      <td>0.0</td>\n",
              "      <td>208.0</td>\n",
              "      <td>203.0</td>\n",
              "      <td>174.0</td>\n",
              "      <td>1.0</td>\n",
              "      <td>NaN</td>\n",
              "      <td>NaN</td>\n",
              "      <td>NaN</td>\n",
              "      <td>NaN</td>\n",
              "    </tr>\n",
              "  </tbody>\n",
              "</table>\n",
              "<p>5 rows × 36 columns</p>\n",
              "</div>\n",
              "      <button class=\"colab-df-convert\" onclick=\"convertToInteractive('df-c75966ab-cd34-4abd-9384-1e37927d66dd')\"\n",
              "              title=\"Convert this dataframe to an interactive table.\"\n",
              "              style=\"display:none;\">\n",
              "\n",
              "  <svg xmlns=\"http://www.w3.org/2000/svg\" height=\"24px\"viewBox=\"0 0 24 24\"\n",
              "       width=\"24px\">\n",
              "    <path d=\"M0 0h24v24H0V0z\" fill=\"none\"/>\n",
              "    <path d=\"M18.56 5.44l.94 2.06.94-2.06 2.06-.94-2.06-.94-.94-2.06-.94 2.06-2.06.94zm-11 1L8.5 8.5l.94-2.06 2.06-.94-2.06-.94L8.5 2.5l-.94 2.06-2.06.94zm10 10l.94 2.06.94-2.06 2.06-.94-2.06-.94-.94-2.06-.94 2.06-2.06.94z\"/><path d=\"M17.41 7.96l-1.37-1.37c-.4-.4-.92-.59-1.43-.59-.52 0-1.04.2-1.43.59L10.3 9.45l-7.72 7.72c-.78.78-.78 2.05 0 2.83L4 21.41c.39.39.9.59 1.41.59.51 0 1.02-.2 1.41-.59l7.78-7.78 2.81-2.81c.8-.78.8-2.07 0-2.86zM5.41 20L4 18.59l7.72-7.72 1.47 1.35L5.41 20z\"/>\n",
              "  </svg>\n",
              "      </button>\n",
              "\n",
              "\n",
              "\n",
              "    <div id=\"df-7901e88e-74c4-4556-a2a9-70958ac747e5\">\n",
              "      <button class=\"colab-df-quickchart\" onclick=\"quickchart('df-7901e88e-74c4-4556-a2a9-70958ac747e5')\"\n",
              "              title=\"Suggest charts.\"\n",
              "              style=\"display:none;\">\n",
              "\n",
              "<svg xmlns=\"http://www.w3.org/2000/svg\" height=\"24px\"viewBox=\"0 0 24 24\"\n",
              "     width=\"24px\">\n",
              "    <g>\n",
              "        <path d=\"M19 3H5c-1.1 0-2 .9-2 2v14c0 1.1.9 2 2 2h14c1.1 0 2-.9 2-2V5c0-1.1-.9-2-2-2zM9 17H7v-7h2v7zm4 0h-2V7h2v10zm4 0h-2v-4h2v4z\"/>\n",
              "    </g>\n",
              "</svg>\n",
              "      </button>\n",
              "    </div>\n",
              "\n",
              "<style>\n",
              "  .colab-df-quickchart {\n",
              "    background-color: #E8F0FE;\n",
              "    border: none;\n",
              "    border-radius: 50%;\n",
              "    cursor: pointer;\n",
              "    display: none;\n",
              "    fill: #1967D2;\n",
              "    height: 32px;\n",
              "    padding: 0 0 0 0;\n",
              "    width: 32px;\n",
              "  }\n",
              "\n",
              "  .colab-df-quickchart:hover {\n",
              "    background-color: #E2EBFA;\n",
              "    box-shadow: 0px 1px 2px rgba(60, 64, 67, 0.3), 0px 1px 3px 1px rgba(60, 64, 67, 0.15);\n",
              "    fill: #174EA6;\n",
              "  }\n",
              "\n",
              "  [theme=dark] .colab-df-quickchart {\n",
              "    background-color: #3B4455;\n",
              "    fill: #D2E3FC;\n",
              "  }\n",
              "\n",
              "  [theme=dark] .colab-df-quickchart:hover {\n",
              "    background-color: #434B5C;\n",
              "    box-shadow: 0px 1px 3px 1px rgba(0, 0, 0, 0.15);\n",
              "    filter: drop-shadow(0px 1px 2px rgba(0, 0, 0, 0.3));\n",
              "    fill: #FFFFFF;\n",
              "  }\n",
              "</style>\n",
              "\n",
              "    <script>\n",
              "      async function quickchart(key) {\n",
              "        const containerElement = document.querySelector('#' + key);\n",
              "        const charts = await google.colab.kernel.invokeFunction(\n",
              "            'suggestCharts', [key], {});\n",
              "      }\n",
              "    </script>\n",
              "\n",
              "      <script>\n",
              "\n",
              "function displayQuickchartButton(domScope) {\n",
              "  let quickchartButtonEl =\n",
              "    domScope.querySelector('#df-7901e88e-74c4-4556-a2a9-70958ac747e5 button.colab-df-quickchart');\n",
              "  quickchartButtonEl.style.display =\n",
              "    google.colab.kernel.accessAllowed ? 'block' : 'none';\n",
              "}\n",
              "\n",
              "        displayQuickchartButton(document);\n",
              "      </script>\n",
              "      <style>\n",
              "    .colab-df-container {\n",
              "      display:flex;\n",
              "      flex-wrap:wrap;\n",
              "      gap: 12px;\n",
              "    }\n",
              "\n",
              "    .colab-df-convert {\n",
              "      background-color: #E8F0FE;\n",
              "      border: none;\n",
              "      border-radius: 50%;\n",
              "      cursor: pointer;\n",
              "      display: none;\n",
              "      fill: #1967D2;\n",
              "      height: 32px;\n",
              "      padding: 0 0 0 0;\n",
              "      width: 32px;\n",
              "    }\n",
              "\n",
              "    .colab-df-convert:hover {\n",
              "      background-color: #E2EBFA;\n",
              "      box-shadow: 0px 1px 2px rgba(60, 64, 67, 0.3), 0px 1px 3px 1px rgba(60, 64, 67, 0.15);\n",
              "      fill: #174EA6;\n",
              "    }\n",
              "\n",
              "    [theme=dark] .colab-df-convert {\n",
              "      background-color: #3B4455;\n",
              "      fill: #D2E3FC;\n",
              "    }\n",
              "\n",
              "    [theme=dark] .colab-df-convert:hover {\n",
              "      background-color: #434B5C;\n",
              "      box-shadow: 0px 1px 3px 1px rgba(0, 0, 0, 0.15);\n",
              "      filter: drop-shadow(0px 1px 2px rgba(0, 0, 0, 0.3));\n",
              "      fill: #FFFFFF;\n",
              "    }\n",
              "  </style>\n",
              "\n",
              "      <script>\n",
              "        const buttonEl =\n",
              "          document.querySelector('#df-c75966ab-cd34-4abd-9384-1e37927d66dd button.colab-df-convert');\n",
              "        buttonEl.style.display =\n",
              "          google.colab.kernel.accessAllowed ? 'block' : 'none';\n",
              "\n",
              "        async function convertToInteractive(key) {\n",
              "          const element = document.querySelector('#df-c75966ab-cd34-4abd-9384-1e37927d66dd');\n",
              "          const dataTable =\n",
              "            await google.colab.kernel.invokeFunction('convertToInteractive',\n",
              "                                                     [key], {});\n",
              "          if (!dataTable) return;\n",
              "\n",
              "          const docLinkHtml = 'Like what you see? Visit the ' +\n",
              "            '<a target=\"_blank\" href=https://colab.research.google.com/notebooks/data_table.ipynb>data table notebook</a>'\n",
              "            + ' to learn more about interactive tables.';\n",
              "          element.innerHTML = '';\n",
              "          dataTable['output_type'] = 'display_data';\n",
              "          await google.colab.output.renderOutput(dataTable, element);\n",
              "          const docLink = document.createElement('div');\n",
              "          docLink.innerHTML = docLinkHtml;\n",
              "          element.appendChild(docLink);\n",
              "        }\n",
              "      </script>\n",
              "    </div>\n",
              "  </div>\n"
            ]
          },
          "metadata": {},
          "execution_count": 5
        }
      ]
    },
    {
      "cell_type": "code",
      "source": [
        "df.shape"
      ],
      "metadata": {
        "colab": {
          "base_uri": "https://localhost:8080/"
        },
        "id": "NDDKUnoeZXFt",
        "outputId": "7f0c784c-89d9-438d-a28b-f2c12c3c9926"
      },
      "execution_count": null,
      "outputs": [
        {
          "output_type": "execute_result",
          "data": {
            "text/plain": [
              "(59610, 36)"
            ]
          },
          "metadata": {},
          "execution_count": 6
        }
      ]
    },
    {
      "cell_type": "code",
      "source": [
        "df.dtypes"
      ],
      "metadata": {
        "colab": {
          "base_uri": "https://localhost:8080/"
        },
        "id": "JfWGKLNeogiv",
        "outputId": "4f83efa7-1f7e-4dcc-e58e-f41b1338883b"
      },
      "execution_count": null,
      "outputs": [
        {
          "output_type": "execute_result",
          "data": {
            "text/plain": [
              "YEAR                       int64\n",
              "QUARTER                    int64\n",
              "MONTH                      int64\n",
              "DAY_OF_MONTH               int64\n",
              "DAY_OF_WEEK                int64\n",
              "FL_DATE                   object\n",
              "OP_UNIQUE_CARRIER         object\n",
              "OP_CARRIER_AIRLINE_ID      int64\n",
              "OP_CARRIER                object\n",
              "OP_CARRIER_FL_NUM          int64\n",
              "ORIGIN_AIRPORT_ID          int64\n",
              "ORIGIN_AIRPORT_SEQ_ID      int64\n",
              "ORIGIN_CITY_MARKET_ID      int64\n",
              "ORIGIN_CITY_NAME          object\n",
              "ORIGIN_STATE_ABR          object\n",
              "DEST_AIRPORT_ID            int64\n",
              "DEST_AIRPORT_SEQ_ID        int64\n",
              "DEST_CITY_MARKET_ID        int64\n",
              "DEST_CITY_NAME            object\n",
              "DEP_TIME                 float64\n",
              "DEP_DELAY                float64\n",
              "DEP_DELAY_NEW            float64\n",
              "ARR_TIME                 float64\n",
              "ARR_DELAY                float64\n",
              "ARR_DELAY_NEW            float64\n",
              "CANCELLED                float64\n",
              "CANCELLATION_CODE         object\n",
              "DIVERTED                 float64\n",
              "CRS_ELAPSED_TIME         float64\n",
              "ACTUAL_ELAPSED_TIME      float64\n",
              "AIR_TIME                 float64\n",
              "FLIGHTS                  float64\n",
              "CARRIER_DELAY            float64\n",
              "WEATHER_DELAY            float64\n",
              "SECURITY_DELAY           float64\n",
              "LATE_AIRCRAFT_DELAY      float64\n",
              "dtype: object"
            ]
          },
          "metadata": {},
          "execution_count": 7
        }
      ]
    },
    {
      "cell_type": "code",
      "source": [
        "column_dtypes = df.dtypes.value_counts()\n",
        "\n",
        "print(column_dtypes)"
      ],
      "metadata": {
        "colab": {
          "base_uri": "https://localhost:8080/"
        },
        "id": "bihjcgK6PD_3",
        "outputId": "dc142516-c75b-4d43-f063-dac3391430d6"
      },
      "execution_count": null,
      "outputs": [
        {
          "output_type": "stream",
          "name": "stdout",
          "text": [
            "float64    16\n",
            "int64      13\n",
            "object      7\n",
            "dtype: int64\n"
          ]
        }
      ]
    },
    {
      "cell_type": "code",
      "source": [
        "df.isnull().sum()"
      ],
      "metadata": {
        "colab": {
          "base_uri": "https://localhost:8080/"
        },
        "id": "oBvX1ZoPd9Gj",
        "outputId": "0db2500e-e984-411c-a792-a73db7b03780"
      },
      "execution_count": null,
      "outputs": [
        {
          "output_type": "execute_result",
          "data": {
            "text/plain": [
              "YEAR                         0\n",
              "QUARTER                      0\n",
              "MONTH                        0\n",
              "DAY_OF_MONTH                 0\n",
              "DAY_OF_WEEK                  0\n",
              "FL_DATE                      0\n",
              "OP_UNIQUE_CARRIER            0\n",
              "OP_CARRIER_AIRLINE_ID        0\n",
              "OP_CARRIER                   0\n",
              "OP_CARRIER_FL_NUM            0\n",
              "ORIGIN_AIRPORT_ID            0\n",
              "ORIGIN_AIRPORT_SEQ_ID        0\n",
              "ORIGIN_CITY_MARKET_ID        0\n",
              "ORIGIN_CITY_NAME             0\n",
              "ORIGIN_STATE_ABR             0\n",
              "DEST_AIRPORT_ID              0\n",
              "DEST_AIRPORT_SEQ_ID          0\n",
              "DEST_CITY_MARKET_ID          0\n",
              "DEST_CITY_NAME               0\n",
              "DEP_TIME                   823\n",
              "DEP_DELAY                  824\n",
              "DEP_DELAY_NEW              824\n",
              "ARR_TIME                   880\n",
              "ARR_DELAY                 1004\n",
              "ARR_DELAY_NEW             1004\n",
              "CANCELLED                    0\n",
              "CANCELLATION_CODE        58738\n",
              "DIVERTED                     0\n",
              "CRS_ELAPSED_TIME             0\n",
              "ACTUAL_ELAPSED_TIME       1004\n",
              "AIR_TIME                  1004\n",
              "FLIGHTS                      0\n",
              "CARRIER_DELAY            45995\n",
              "WEATHER_DELAY            45995\n",
              "SECURITY_DELAY           45995\n",
              "LATE_AIRCRAFT_DELAY      45995\n",
              "dtype: int64"
            ]
          },
          "metadata": {},
          "execution_count": 11
        }
      ]
    },
    {
      "cell_type": "code",
      "source": [
        "# Assuming you have a DataFrame called 'df' and a categorical column called 'Category'\n",
        "value_counts = df['CANCELLED'].value_counts()\n",
        "\n",
        "print(value_counts)"
      ],
      "metadata": {
        "colab": {
          "base_uri": "https://localhost:8080/"
        },
        "id": "YNbgbxrxev4L",
        "outputId": "1cd2ec09-41d0-444b-8a35-318e3ad20025"
      },
      "execution_count": null,
      "outputs": [
        {
          "output_type": "stream",
          "name": "stdout",
          "text": [
            "0.0    58738\n",
            "1.0      872\n",
            "Name: CANCELLED, dtype: int64\n"
          ]
        }
      ]
    },
    {
      "cell_type": "code",
      "source": [
        "df[\"QUARTER\"].unique()"
      ],
      "metadata": {
        "colab": {
          "base_uri": "https://localhost:8080/"
        },
        "id": "hnO4Dxu3ncFX",
        "outputId": "b10ad5c5-1e5e-4266-d0f7-478ba89ae23d"
      },
      "execution_count": null,
      "outputs": [
        {
          "output_type": "execute_result",
          "data": {
            "text/plain": [
              "array([1])"
            ]
          },
          "metadata": {},
          "execution_count": 13
        }
      ]
    },
    {
      "cell_type": "code",
      "source": [
        "data =df.copy()"
      ],
      "metadata": {
        "id": "l57WslItpoHh"
      },
      "execution_count": null,
      "outputs": []
    },
    {
      "cell_type": "code",
      "source": [
        "data.drop([\"YEAR\",\"QUARTER\",\"MONTH\", \"FL_DATE\",\"OP_CARRIER_AIRLINE_ID\", \"ORIGIN_AIRPORT_SEQ_ID\",\"DEST_AIRPORT_SEQ_ID\",\"CANCELLATION_CODE\"], axis=1,inplace= True)"
      ],
      "metadata": {
        "id": "P8-pnjEJq1Ms"
      },
      "execution_count": null,
      "outputs": []
    },
    {
      "cell_type": "code",
      "source": [
        "data.drop([\"ARR_DELAY_NEW\",\"DEP_DELAY_NEW\",], axis=1,inplace= True)"
      ],
      "metadata": {
        "id": "OuMInQPCvnsI"
      },
      "execution_count": null,
      "outputs": []
    },
    {
      "cell_type": "code",
      "source": [
        "data.head()"
      ],
      "metadata": {
        "colab": {
          "base_uri": "https://localhost:8080/",
          "height": 300
        },
        "id": "TLc62sCWr84L",
        "outputId": "cf01aa03-4867-4a73-8096-5c3c83988f8f"
      },
      "execution_count": null,
      "outputs": [
        {
          "output_type": "execute_result",
          "data": {
            "text/plain": [
              "   DAY_OF_MONTH  DAY_OF_WEEK OP_UNIQUE_CARRIER OP_CARRIER  OP_CARRIER_FL_NUM  \\\n",
              "0             1            7                9E         9E               4647   \n",
              "1             1            7                9E         9E               4650   \n",
              "2             1            7                9E         9E               4650   \n",
              "3             1            7                9E         9E               4654   \n",
              "4             1            7                9E         9E               4663   \n",
              "\n",
              "   ORIGIN_AIRPORT_ID  ORIGIN_CITY_MARKET_ID ORIGIN_CITY_NAME ORIGIN_STATE_ABR  \\\n",
              "0              12953                  31703     New York, NY               NY   \n",
              "1              11996                  31871        Greer, SC               SC   \n",
              "2              12953                  31703     New York, NY               NY   \n",
              "3              12478                  31703     New York, NY               NY   \n",
              "4              12478                  31703     New York, NY               NY   \n",
              "\n",
              "   DEST_AIRPORT_ID  ...  CANCELLED DIVERTED  CRS_ELAPSED_TIME  \\\n",
              "0            14492  ...        0.0      0.0             122.0   \n",
              "1            12953  ...        0.0      0.0             117.0   \n",
              "2            11996  ...        0.0      0.0             146.0   \n",
              "3            11433  ...        0.0      0.0             141.0   \n",
              "4            13487  ...        0.0      0.0             208.0   \n",
              "\n",
              "   ACTUAL_ELAPSED_TIME  AIR_TIME  FLIGHTS  CARRIER_DELAY  WEATHER_DELAY  \\\n",
              "0                 97.0      72.0      1.0            NaN            NaN   \n",
              "1                107.0      82.0      1.0            NaN            NaN   \n",
              "2                119.0      91.0      1.0            NaN            NaN   \n",
              "3                123.0      89.0      1.0            NaN            NaN   \n",
              "4                203.0     174.0      1.0            NaN            NaN   \n",
              "\n",
              "   SECURITY_DELAY  LATE_AIRCRAFT_DELAY  \n",
              "0             NaN                  NaN  \n",
              "1             NaN                  NaN  \n",
              "2             NaN                  NaN  \n",
              "3             NaN                  NaN  \n",
              "4             NaN                  NaN  \n",
              "\n",
              "[5 rows x 26 columns]"
            ],
            "text/html": [
              "\n",
              "\n",
              "  <div id=\"df-ff2952e1-56ec-4688-843e-6ada10b7dd56\">\n",
              "    <div class=\"colab-df-container\">\n",
              "      <div>\n",
              "<style scoped>\n",
              "    .dataframe tbody tr th:only-of-type {\n",
              "        vertical-align: middle;\n",
              "    }\n",
              "\n",
              "    .dataframe tbody tr th {\n",
              "        vertical-align: top;\n",
              "    }\n",
              "\n",
              "    .dataframe thead th {\n",
              "        text-align: right;\n",
              "    }\n",
              "</style>\n",
              "<table border=\"1\" class=\"dataframe\">\n",
              "  <thead>\n",
              "    <tr style=\"text-align: right;\">\n",
              "      <th></th>\n",
              "      <th>DAY_OF_MONTH</th>\n",
              "      <th>DAY_OF_WEEK</th>\n",
              "      <th>OP_UNIQUE_CARRIER</th>\n",
              "      <th>OP_CARRIER</th>\n",
              "      <th>OP_CARRIER_FL_NUM</th>\n",
              "      <th>ORIGIN_AIRPORT_ID</th>\n",
              "      <th>ORIGIN_CITY_MARKET_ID</th>\n",
              "      <th>ORIGIN_CITY_NAME</th>\n",
              "      <th>ORIGIN_STATE_ABR</th>\n",
              "      <th>DEST_AIRPORT_ID</th>\n",
              "      <th>...</th>\n",
              "      <th>CANCELLED</th>\n",
              "      <th>DIVERTED</th>\n",
              "      <th>CRS_ELAPSED_TIME</th>\n",
              "      <th>ACTUAL_ELAPSED_TIME</th>\n",
              "      <th>AIR_TIME</th>\n",
              "      <th>FLIGHTS</th>\n",
              "      <th>CARRIER_DELAY</th>\n",
              "      <th>WEATHER_DELAY</th>\n",
              "      <th>SECURITY_DELAY</th>\n",
              "      <th>LATE_AIRCRAFT_DELAY</th>\n",
              "    </tr>\n",
              "  </thead>\n",
              "  <tbody>\n",
              "    <tr>\n",
              "      <th>0</th>\n",
              "      <td>1</td>\n",
              "      <td>7</td>\n",
              "      <td>9E</td>\n",
              "      <td>9E</td>\n",
              "      <td>4647</td>\n",
              "      <td>12953</td>\n",
              "      <td>31703</td>\n",
              "      <td>New York, NY</td>\n",
              "      <td>NY</td>\n",
              "      <td>14492</td>\n",
              "      <td>...</td>\n",
              "      <td>0.0</td>\n",
              "      <td>0.0</td>\n",
              "      <td>122.0</td>\n",
              "      <td>97.0</td>\n",
              "      <td>72.0</td>\n",
              "      <td>1.0</td>\n",
              "      <td>NaN</td>\n",
              "      <td>NaN</td>\n",
              "      <td>NaN</td>\n",
              "      <td>NaN</td>\n",
              "    </tr>\n",
              "    <tr>\n",
              "      <th>1</th>\n",
              "      <td>1</td>\n",
              "      <td>7</td>\n",
              "      <td>9E</td>\n",
              "      <td>9E</td>\n",
              "      <td>4650</td>\n",
              "      <td>11996</td>\n",
              "      <td>31871</td>\n",
              "      <td>Greer, SC</td>\n",
              "      <td>SC</td>\n",
              "      <td>12953</td>\n",
              "      <td>...</td>\n",
              "      <td>0.0</td>\n",
              "      <td>0.0</td>\n",
              "      <td>117.0</td>\n",
              "      <td>107.0</td>\n",
              "      <td>82.0</td>\n",
              "      <td>1.0</td>\n",
              "      <td>NaN</td>\n",
              "      <td>NaN</td>\n",
              "      <td>NaN</td>\n",
              "      <td>NaN</td>\n",
              "    </tr>\n",
              "    <tr>\n",
              "      <th>2</th>\n",
              "      <td>1</td>\n",
              "      <td>7</td>\n",
              "      <td>9E</td>\n",
              "      <td>9E</td>\n",
              "      <td>4650</td>\n",
              "      <td>12953</td>\n",
              "      <td>31703</td>\n",
              "      <td>New York, NY</td>\n",
              "      <td>NY</td>\n",
              "      <td>11996</td>\n",
              "      <td>...</td>\n",
              "      <td>0.0</td>\n",
              "      <td>0.0</td>\n",
              "      <td>146.0</td>\n",
              "      <td>119.0</td>\n",
              "      <td>91.0</td>\n",
              "      <td>1.0</td>\n",
              "      <td>NaN</td>\n",
              "      <td>NaN</td>\n",
              "      <td>NaN</td>\n",
              "      <td>NaN</td>\n",
              "    </tr>\n",
              "    <tr>\n",
              "      <th>3</th>\n",
              "      <td>1</td>\n",
              "      <td>7</td>\n",
              "      <td>9E</td>\n",
              "      <td>9E</td>\n",
              "      <td>4654</td>\n",
              "      <td>12478</td>\n",
              "      <td>31703</td>\n",
              "      <td>New York, NY</td>\n",
              "      <td>NY</td>\n",
              "      <td>11433</td>\n",
              "      <td>...</td>\n",
              "      <td>0.0</td>\n",
              "      <td>0.0</td>\n",
              "      <td>141.0</td>\n",
              "      <td>123.0</td>\n",
              "      <td>89.0</td>\n",
              "      <td>1.0</td>\n",
              "      <td>NaN</td>\n",
              "      <td>NaN</td>\n",
              "      <td>NaN</td>\n",
              "      <td>NaN</td>\n",
              "    </tr>\n",
              "    <tr>\n",
              "      <th>4</th>\n",
              "      <td>1</td>\n",
              "      <td>7</td>\n",
              "      <td>9E</td>\n",
              "      <td>9E</td>\n",
              "      <td>4663</td>\n",
              "      <td>12478</td>\n",
              "      <td>31703</td>\n",
              "      <td>New York, NY</td>\n",
              "      <td>NY</td>\n",
              "      <td>13487</td>\n",
              "      <td>...</td>\n",
              "      <td>0.0</td>\n",
              "      <td>0.0</td>\n",
              "      <td>208.0</td>\n",
              "      <td>203.0</td>\n",
              "      <td>174.0</td>\n",
              "      <td>1.0</td>\n",
              "      <td>NaN</td>\n",
              "      <td>NaN</td>\n",
              "      <td>NaN</td>\n",
              "      <td>NaN</td>\n",
              "    </tr>\n",
              "  </tbody>\n",
              "</table>\n",
              "<p>5 rows × 26 columns</p>\n",
              "</div>\n",
              "      <button class=\"colab-df-convert\" onclick=\"convertToInteractive('df-ff2952e1-56ec-4688-843e-6ada10b7dd56')\"\n",
              "              title=\"Convert this dataframe to an interactive table.\"\n",
              "              style=\"display:none;\">\n",
              "\n",
              "  <svg xmlns=\"http://www.w3.org/2000/svg\" height=\"24px\"viewBox=\"0 0 24 24\"\n",
              "       width=\"24px\">\n",
              "    <path d=\"M0 0h24v24H0V0z\" fill=\"none\"/>\n",
              "    <path d=\"M18.56 5.44l.94 2.06.94-2.06 2.06-.94-2.06-.94-.94-2.06-.94 2.06-2.06.94zm-11 1L8.5 8.5l.94-2.06 2.06-.94-2.06-.94L8.5 2.5l-.94 2.06-2.06.94zm10 10l.94 2.06.94-2.06 2.06-.94-2.06-.94-.94-2.06-.94 2.06-2.06.94z\"/><path d=\"M17.41 7.96l-1.37-1.37c-.4-.4-.92-.59-1.43-.59-.52 0-1.04.2-1.43.59L10.3 9.45l-7.72 7.72c-.78.78-.78 2.05 0 2.83L4 21.41c.39.39.9.59 1.41.59.51 0 1.02-.2 1.41-.59l7.78-7.78 2.81-2.81c.8-.78.8-2.07 0-2.86zM5.41 20L4 18.59l7.72-7.72 1.47 1.35L5.41 20z\"/>\n",
              "  </svg>\n",
              "      </button>\n",
              "\n",
              "\n",
              "\n",
              "    <div id=\"df-6653d0b7-6d44-4573-86c8-717c0af2d5e7\">\n",
              "      <button class=\"colab-df-quickchart\" onclick=\"quickchart('df-6653d0b7-6d44-4573-86c8-717c0af2d5e7')\"\n",
              "              title=\"Suggest charts.\"\n",
              "              style=\"display:none;\">\n",
              "\n",
              "<svg xmlns=\"http://www.w3.org/2000/svg\" height=\"24px\"viewBox=\"0 0 24 24\"\n",
              "     width=\"24px\">\n",
              "    <g>\n",
              "        <path d=\"M19 3H5c-1.1 0-2 .9-2 2v14c0 1.1.9 2 2 2h14c1.1 0 2-.9 2-2V5c0-1.1-.9-2-2-2zM9 17H7v-7h2v7zm4 0h-2V7h2v10zm4 0h-2v-4h2v4z\"/>\n",
              "    </g>\n",
              "</svg>\n",
              "      </button>\n",
              "    </div>\n",
              "\n",
              "<style>\n",
              "  .colab-df-quickchart {\n",
              "    background-color: #E8F0FE;\n",
              "    border: none;\n",
              "    border-radius: 50%;\n",
              "    cursor: pointer;\n",
              "    display: none;\n",
              "    fill: #1967D2;\n",
              "    height: 32px;\n",
              "    padding: 0 0 0 0;\n",
              "    width: 32px;\n",
              "  }\n",
              "\n",
              "  .colab-df-quickchart:hover {\n",
              "    background-color: #E2EBFA;\n",
              "    box-shadow: 0px 1px 2px rgba(60, 64, 67, 0.3), 0px 1px 3px 1px rgba(60, 64, 67, 0.15);\n",
              "    fill: #174EA6;\n",
              "  }\n",
              "\n",
              "  [theme=dark] .colab-df-quickchart {\n",
              "    background-color: #3B4455;\n",
              "    fill: #D2E3FC;\n",
              "  }\n",
              "\n",
              "  [theme=dark] .colab-df-quickchart:hover {\n",
              "    background-color: #434B5C;\n",
              "    box-shadow: 0px 1px 3px 1px rgba(0, 0, 0, 0.15);\n",
              "    filter: drop-shadow(0px 1px 2px rgba(0, 0, 0, 0.3));\n",
              "    fill: #FFFFFF;\n",
              "  }\n",
              "</style>\n",
              "\n",
              "    <script>\n",
              "      async function quickchart(key) {\n",
              "        const containerElement = document.querySelector('#' + key);\n",
              "        const charts = await google.colab.kernel.invokeFunction(\n",
              "            'suggestCharts', [key], {});\n",
              "      }\n",
              "    </script>\n",
              "\n",
              "      <script>\n",
              "\n",
              "function displayQuickchartButton(domScope) {\n",
              "  let quickchartButtonEl =\n",
              "    domScope.querySelector('#df-6653d0b7-6d44-4573-86c8-717c0af2d5e7 button.colab-df-quickchart');\n",
              "  quickchartButtonEl.style.display =\n",
              "    google.colab.kernel.accessAllowed ? 'block' : 'none';\n",
              "}\n",
              "\n",
              "        displayQuickchartButton(document);\n",
              "      </script>\n",
              "      <style>\n",
              "    .colab-df-container {\n",
              "      display:flex;\n",
              "      flex-wrap:wrap;\n",
              "      gap: 12px;\n",
              "    }\n",
              "\n",
              "    .colab-df-convert {\n",
              "      background-color: #E8F0FE;\n",
              "      border: none;\n",
              "      border-radius: 50%;\n",
              "      cursor: pointer;\n",
              "      display: none;\n",
              "      fill: #1967D2;\n",
              "      height: 32px;\n",
              "      padding: 0 0 0 0;\n",
              "      width: 32px;\n",
              "    }\n",
              "\n",
              "    .colab-df-convert:hover {\n",
              "      background-color: #E2EBFA;\n",
              "      box-shadow: 0px 1px 2px rgba(60, 64, 67, 0.3), 0px 1px 3px 1px rgba(60, 64, 67, 0.15);\n",
              "      fill: #174EA6;\n",
              "    }\n",
              "\n",
              "    [theme=dark] .colab-df-convert {\n",
              "      background-color: #3B4455;\n",
              "      fill: #D2E3FC;\n",
              "    }\n",
              "\n",
              "    [theme=dark] .colab-df-convert:hover {\n",
              "      background-color: #434B5C;\n",
              "      box-shadow: 0px 1px 3px 1px rgba(0, 0, 0, 0.15);\n",
              "      filter: drop-shadow(0px 1px 2px rgba(0, 0, 0, 0.3));\n",
              "      fill: #FFFFFF;\n",
              "    }\n",
              "  </style>\n",
              "\n",
              "      <script>\n",
              "        const buttonEl =\n",
              "          document.querySelector('#df-ff2952e1-56ec-4688-843e-6ada10b7dd56 button.colab-df-convert');\n",
              "        buttonEl.style.display =\n",
              "          google.colab.kernel.accessAllowed ? 'block' : 'none';\n",
              "\n",
              "        async function convertToInteractive(key) {\n",
              "          const element = document.querySelector('#df-ff2952e1-56ec-4688-843e-6ada10b7dd56');\n",
              "          const dataTable =\n",
              "            await google.colab.kernel.invokeFunction('convertToInteractive',\n",
              "                                                     [key], {});\n",
              "          if (!dataTable) return;\n",
              "\n",
              "          const docLinkHtml = 'Like what you see? Visit the ' +\n",
              "            '<a target=\"_blank\" href=https://colab.research.google.com/notebooks/data_table.ipynb>data table notebook</a>'\n",
              "            + ' to learn more about interactive tables.';\n",
              "          element.innerHTML = '';\n",
              "          dataTable['output_type'] = 'display_data';\n",
              "          await google.colab.output.renderOutput(dataTable, element);\n",
              "          const docLink = document.createElement('div');\n",
              "          docLink.innerHTML = docLinkHtml;\n",
              "          element.appendChild(docLink);\n",
              "        }\n",
              "      </script>\n",
              "    </div>\n",
              "  </div>\n"
            ]
          },
          "metadata": {},
          "execution_count": 17
        }
      ]
    },
    {
      "cell_type": "code",
      "source": [
        "for u, x, y in zip(data.columns,data.dtypes,data.isnull().sum()):\n",
        "  print(y,x,u)"
      ],
      "metadata": {
        "colab": {
          "base_uri": "https://localhost:8080/"
        },
        "id": "azgnKIuBsk4I",
        "outputId": "abbbdf0e-8c49-4097-8281-709a96c21543"
      },
      "execution_count": null,
      "outputs": [
        {
          "output_type": "stream",
          "name": "stdout",
          "text": [
            "0 int64 DAY_OF_MONTH\n",
            "0 int64 DAY_OF_WEEK\n",
            "0 object OP_UNIQUE_CARRIER\n",
            "0 object OP_CARRIER\n",
            "0 int64 OP_CARRIER_FL_NUM\n",
            "0 int64 ORIGIN_AIRPORT_ID\n",
            "0 int64 ORIGIN_CITY_MARKET_ID\n",
            "0 object ORIGIN_CITY_NAME\n",
            "0 object ORIGIN_STATE_ABR\n",
            "0 int64 DEST_AIRPORT_ID\n",
            "0 int64 DEST_CITY_MARKET_ID\n",
            "0 object DEST_CITY_NAME\n",
            "823 float64 DEP_TIME\n",
            "824 float64 DEP_DELAY\n",
            "880 float64 ARR_TIME\n",
            "1004 float64 ARR_DELAY\n",
            "0 float64 CANCELLED\n",
            "0 float64 DIVERTED\n",
            "0 float64 CRS_ELAPSED_TIME\n",
            "1004 float64 ACTUAL_ELAPSED_TIME\n",
            "1004 float64 AIR_TIME\n",
            "0 float64 FLIGHTS\n",
            "45995 float64 CARRIER_DELAY\n",
            "45995 float64 WEATHER_DELAY\n",
            "45995 float64 SECURITY_DELAY\n",
            "45995 float64 LATE_AIRCRAFT_DELAY\n"
          ]
        }
      ]
    },
    {
      "cell_type": "code",
      "source": [
        "data.head(5)"
      ],
      "metadata": {
        "colab": {
          "base_uri": "https://localhost:8080/",
          "height": 300
        },
        "id": "vLn_IGsXvfpZ",
        "outputId": "d59d1aaf-0abf-432f-92e8-aecb49890264"
      },
      "execution_count": null,
      "outputs": [
        {
          "output_type": "execute_result",
          "data": {
            "text/plain": [
              "   DAY_OF_MONTH  DAY_OF_WEEK OP_UNIQUE_CARRIER OP_CARRIER  OP_CARRIER_FL_NUM  \\\n",
              "0             1            7                9E         9E               4647   \n",
              "1             1            7                9E         9E               4650   \n",
              "2             1            7                9E         9E               4650   \n",
              "3             1            7                9E         9E               4654   \n",
              "4             1            7                9E         9E               4663   \n",
              "\n",
              "   ORIGIN_AIRPORT_ID  ORIGIN_CITY_MARKET_ID ORIGIN_CITY_NAME ORIGIN_STATE_ABR  \\\n",
              "0              12953                  31703     New York, NY               NY   \n",
              "1              11996                  31871        Greer, SC               SC   \n",
              "2              12953                  31703     New York, NY               NY   \n",
              "3              12478                  31703     New York, NY               NY   \n",
              "4              12478                  31703     New York, NY               NY   \n",
              "\n",
              "   DEST_AIRPORT_ID  ...  CANCELLED DIVERTED  CRS_ELAPSED_TIME  \\\n",
              "0            14492  ...        0.0      0.0             122.0   \n",
              "1            12953  ...        0.0      0.0             117.0   \n",
              "2            11996  ...        0.0      0.0             146.0   \n",
              "3            11433  ...        0.0      0.0             141.0   \n",
              "4            13487  ...        0.0      0.0             208.0   \n",
              "\n",
              "   ACTUAL_ELAPSED_TIME  AIR_TIME  FLIGHTS  CARRIER_DELAY  WEATHER_DELAY  \\\n",
              "0                 97.0      72.0      1.0            NaN            NaN   \n",
              "1                107.0      82.0      1.0            NaN            NaN   \n",
              "2                119.0      91.0      1.0            NaN            NaN   \n",
              "3                123.0      89.0      1.0            NaN            NaN   \n",
              "4                203.0     174.0      1.0            NaN            NaN   \n",
              "\n",
              "   SECURITY_DELAY  LATE_AIRCRAFT_DELAY  \n",
              "0             NaN                  NaN  \n",
              "1             NaN                  NaN  \n",
              "2             NaN                  NaN  \n",
              "3             NaN                  NaN  \n",
              "4             NaN                  NaN  \n",
              "\n",
              "[5 rows x 26 columns]"
            ],
            "text/html": [
              "\n",
              "  <div id=\"df-f8228b53-f04d-466a-a63a-94ea67253ff4\">\n",
              "    <div class=\"colab-df-container\">\n",
              "      <div>\n",
              "<style scoped>\n",
              "    .dataframe tbody tr th:only-of-type {\n",
              "        vertical-align: middle;\n",
              "    }\n",
              "\n",
              "    .dataframe tbody tr th {\n",
              "        vertical-align: top;\n",
              "    }\n",
              "\n",
              "    .dataframe thead th {\n",
              "        text-align: right;\n",
              "    }\n",
              "</style>\n",
              "<table border=\"1\" class=\"dataframe\">\n",
              "  <thead>\n",
              "    <tr style=\"text-align: right;\">\n",
              "      <th></th>\n",
              "      <th>DAY_OF_MONTH</th>\n",
              "      <th>DAY_OF_WEEK</th>\n",
              "      <th>OP_UNIQUE_CARRIER</th>\n",
              "      <th>OP_CARRIER</th>\n",
              "      <th>OP_CARRIER_FL_NUM</th>\n",
              "      <th>ORIGIN_AIRPORT_ID</th>\n",
              "      <th>ORIGIN_CITY_MARKET_ID</th>\n",
              "      <th>ORIGIN_CITY_NAME</th>\n",
              "      <th>ORIGIN_STATE_ABR</th>\n",
              "      <th>DEST_AIRPORT_ID</th>\n",
              "      <th>...</th>\n",
              "      <th>CANCELLED</th>\n",
              "      <th>DIVERTED</th>\n",
              "      <th>CRS_ELAPSED_TIME</th>\n",
              "      <th>ACTUAL_ELAPSED_TIME</th>\n",
              "      <th>AIR_TIME</th>\n",
              "      <th>FLIGHTS</th>\n",
              "      <th>CARRIER_DELAY</th>\n",
              "      <th>WEATHER_DELAY</th>\n",
              "      <th>SECURITY_DELAY</th>\n",
              "      <th>LATE_AIRCRAFT_DELAY</th>\n",
              "    </tr>\n",
              "  </thead>\n",
              "  <tbody>\n",
              "    <tr>\n",
              "      <th>0</th>\n",
              "      <td>1</td>\n",
              "      <td>7</td>\n",
              "      <td>9E</td>\n",
              "      <td>9E</td>\n",
              "      <td>4647</td>\n",
              "      <td>12953</td>\n",
              "      <td>31703</td>\n",
              "      <td>New York, NY</td>\n",
              "      <td>NY</td>\n",
              "      <td>14492</td>\n",
              "      <td>...</td>\n",
              "      <td>0.0</td>\n",
              "      <td>0.0</td>\n",
              "      <td>122.0</td>\n",
              "      <td>97.0</td>\n",
              "      <td>72.0</td>\n",
              "      <td>1.0</td>\n",
              "      <td>NaN</td>\n",
              "      <td>NaN</td>\n",
              "      <td>NaN</td>\n",
              "      <td>NaN</td>\n",
              "    </tr>\n",
              "    <tr>\n",
              "      <th>1</th>\n",
              "      <td>1</td>\n",
              "      <td>7</td>\n",
              "      <td>9E</td>\n",
              "      <td>9E</td>\n",
              "      <td>4650</td>\n",
              "      <td>11996</td>\n",
              "      <td>31871</td>\n",
              "      <td>Greer, SC</td>\n",
              "      <td>SC</td>\n",
              "      <td>12953</td>\n",
              "      <td>...</td>\n",
              "      <td>0.0</td>\n",
              "      <td>0.0</td>\n",
              "      <td>117.0</td>\n",
              "      <td>107.0</td>\n",
              "      <td>82.0</td>\n",
              "      <td>1.0</td>\n",
              "      <td>NaN</td>\n",
              "      <td>NaN</td>\n",
              "      <td>NaN</td>\n",
              "      <td>NaN</td>\n",
              "    </tr>\n",
              "    <tr>\n",
              "      <th>2</th>\n",
              "      <td>1</td>\n",
              "      <td>7</td>\n",
              "      <td>9E</td>\n",
              "      <td>9E</td>\n",
              "      <td>4650</td>\n",
              "      <td>12953</td>\n",
              "      <td>31703</td>\n",
              "      <td>New York, NY</td>\n",
              "      <td>NY</td>\n",
              "      <td>11996</td>\n",
              "      <td>...</td>\n",
              "      <td>0.0</td>\n",
              "      <td>0.0</td>\n",
              "      <td>146.0</td>\n",
              "      <td>119.0</td>\n",
              "      <td>91.0</td>\n",
              "      <td>1.0</td>\n",
              "      <td>NaN</td>\n",
              "      <td>NaN</td>\n",
              "      <td>NaN</td>\n",
              "      <td>NaN</td>\n",
              "    </tr>\n",
              "    <tr>\n",
              "      <th>3</th>\n",
              "      <td>1</td>\n",
              "      <td>7</td>\n",
              "      <td>9E</td>\n",
              "      <td>9E</td>\n",
              "      <td>4654</td>\n",
              "      <td>12478</td>\n",
              "      <td>31703</td>\n",
              "      <td>New York, NY</td>\n",
              "      <td>NY</td>\n",
              "      <td>11433</td>\n",
              "      <td>...</td>\n",
              "      <td>0.0</td>\n",
              "      <td>0.0</td>\n",
              "      <td>141.0</td>\n",
              "      <td>123.0</td>\n",
              "      <td>89.0</td>\n",
              "      <td>1.0</td>\n",
              "      <td>NaN</td>\n",
              "      <td>NaN</td>\n",
              "      <td>NaN</td>\n",
              "      <td>NaN</td>\n",
              "    </tr>\n",
              "    <tr>\n",
              "      <th>4</th>\n",
              "      <td>1</td>\n",
              "      <td>7</td>\n",
              "      <td>9E</td>\n",
              "      <td>9E</td>\n",
              "      <td>4663</td>\n",
              "      <td>12478</td>\n",
              "      <td>31703</td>\n",
              "      <td>New York, NY</td>\n",
              "      <td>NY</td>\n",
              "      <td>13487</td>\n",
              "      <td>...</td>\n",
              "      <td>0.0</td>\n",
              "      <td>0.0</td>\n",
              "      <td>208.0</td>\n",
              "      <td>203.0</td>\n",
              "      <td>174.0</td>\n",
              "      <td>1.0</td>\n",
              "      <td>NaN</td>\n",
              "      <td>NaN</td>\n",
              "      <td>NaN</td>\n",
              "      <td>NaN</td>\n",
              "    </tr>\n",
              "  </tbody>\n",
              "</table>\n",
              "<p>5 rows × 26 columns</p>\n",
              "</div>\n",
              "      <button class=\"colab-df-convert\" onclick=\"convertToInteractive('df-f8228b53-f04d-466a-a63a-94ea67253ff4')\"\n",
              "              title=\"Convert this dataframe to an interactive table.\"\n",
              "              style=\"display:none;\">\n",
              "        \n",
              "  <svg xmlns=\"http://www.w3.org/2000/svg\" height=\"24px\"viewBox=\"0 0 24 24\"\n",
              "       width=\"24px\">\n",
              "    <path d=\"M0 0h24v24H0V0z\" fill=\"none\"/>\n",
              "    <path d=\"M18.56 5.44l.94 2.06.94-2.06 2.06-.94-2.06-.94-.94-2.06-.94 2.06-2.06.94zm-11 1L8.5 8.5l.94-2.06 2.06-.94-2.06-.94L8.5 2.5l-.94 2.06-2.06.94zm10 10l.94 2.06.94-2.06 2.06-.94-2.06-.94-.94-2.06-.94 2.06-2.06.94z\"/><path d=\"M17.41 7.96l-1.37-1.37c-.4-.4-.92-.59-1.43-.59-.52 0-1.04.2-1.43.59L10.3 9.45l-7.72 7.72c-.78.78-.78 2.05 0 2.83L4 21.41c.39.39.9.59 1.41.59.51 0 1.02-.2 1.41-.59l7.78-7.78 2.81-2.81c.8-.78.8-2.07 0-2.86zM5.41 20L4 18.59l7.72-7.72 1.47 1.35L5.41 20z\"/>\n",
              "  </svg>\n",
              "      </button>\n",
              "      \n",
              "  <style>\n",
              "    .colab-df-container {\n",
              "      display:flex;\n",
              "      flex-wrap:wrap;\n",
              "      gap: 12px;\n",
              "    }\n",
              "\n",
              "    .colab-df-convert {\n",
              "      background-color: #E8F0FE;\n",
              "      border: none;\n",
              "      border-radius: 50%;\n",
              "      cursor: pointer;\n",
              "      display: none;\n",
              "      fill: #1967D2;\n",
              "      height: 32px;\n",
              "      padding: 0 0 0 0;\n",
              "      width: 32px;\n",
              "    }\n",
              "\n",
              "    .colab-df-convert:hover {\n",
              "      background-color: #E2EBFA;\n",
              "      box-shadow: 0px 1px 2px rgba(60, 64, 67, 0.3), 0px 1px 3px 1px rgba(60, 64, 67, 0.15);\n",
              "      fill: #174EA6;\n",
              "    }\n",
              "\n",
              "    [theme=dark] .colab-df-convert {\n",
              "      background-color: #3B4455;\n",
              "      fill: #D2E3FC;\n",
              "    }\n",
              "\n",
              "    [theme=dark] .colab-df-convert:hover {\n",
              "      background-color: #434B5C;\n",
              "      box-shadow: 0px 1px 3px 1px rgba(0, 0, 0, 0.15);\n",
              "      filter: drop-shadow(0px 1px 2px rgba(0, 0, 0, 0.3));\n",
              "      fill: #FFFFFF;\n",
              "    }\n",
              "  </style>\n",
              "\n",
              "      <script>\n",
              "        const buttonEl =\n",
              "          document.querySelector('#df-f8228b53-f04d-466a-a63a-94ea67253ff4 button.colab-df-convert');\n",
              "        buttonEl.style.display =\n",
              "          google.colab.kernel.accessAllowed ? 'block' : 'none';\n",
              "\n",
              "        async function convertToInteractive(key) {\n",
              "          const element = document.querySelector('#df-f8228b53-f04d-466a-a63a-94ea67253ff4');\n",
              "          const dataTable =\n",
              "            await google.colab.kernel.invokeFunction('convertToInteractive',\n",
              "                                                     [key], {});\n",
              "          if (!dataTable) return;\n",
              "\n",
              "          const docLinkHtml = 'Like what you see? Visit the ' +\n",
              "            '<a target=\"_blank\" href=https://colab.research.google.com/notebooks/data_table.ipynb>data table notebook</a>'\n",
              "            + ' to learn more about interactive tables.';\n",
              "          element.innerHTML = '';\n",
              "          dataTable['output_type'] = 'display_data';\n",
              "          await google.colab.output.renderOutput(dataTable, element);\n",
              "          const docLink = document.createElement('div');\n",
              "          docLink.innerHTML = docLinkHtml;\n",
              "          element.appendChild(docLink);\n",
              "        }\n",
              "      </script>\n",
              "    </div>\n",
              "  </div>\n",
              "  "
            ]
          },
          "metadata": {},
          "execution_count": 22
        }
      ]
    },
    {
      "cell_type": "code",
      "source": [
        "# Assuming you have a DataFrame called 'data' and want to replace null values with 0 in specific columns\n",
        "for feature in [\"CARRIER_DELAY\", \"WEATHER_DELAY\", \"SECURITY_DELAY\", \"LATE_AIRCRAFT_DELAY\"]:\n",
        "    data[feature] = data[feature].fillna(0)\n"
      ],
      "metadata": {
        "id": "jTHRyrUCv6Wr"
      },
      "execution_count": null,
      "outputs": []
    },
    {
      "cell_type": "code",
      "source": [
        "\n",
        "# Assuming you have a DataFrame called 'data' and want to fill null values with the mean in specific columns\n",
        "columns_to_fill = [\"ACTUAL_ELAPSED_TIME\", \"AIR_TIME\",\"DEP_TIME\", \"DEP_DELAY\", \"ARR_TIME\",\"ARR_DELAY\"]\n",
        "\n",
        "for column in columns_to_fill:\n",
        "    data[column].fillna(data[column].mean(), inplace=True)"
      ],
      "metadata": {
        "id": "LS5FWnZAy_6p"
      },
      "execution_count": null,
      "outputs": []
    },
    {
      "cell_type": "code",
      "source": [
        "for u, x, y in zip(data.columns,data.dtypes,data.isnull().sum()):\n",
        "  print(y,x,u)"
      ],
      "metadata": {
        "colab": {
          "base_uri": "https://localhost:8080/"
        },
        "id": "_bCFQn9izsBh",
        "outputId": "db757279-342e-4a68-e0d4-f4748c790fd3"
      },
      "execution_count": null,
      "outputs": [
        {
          "output_type": "stream",
          "name": "stdout",
          "text": [
            "0 int64 DAY_OF_MONTH\n",
            "0 int64 DAY_OF_WEEK\n",
            "0 int64 OP_UNIQUE_CARRIER\n",
            "0 int64 OP_CARRIER\n",
            "0 int64 OP_CARRIER_FL_NUM\n",
            "0 int64 ORIGIN_AIRPORT_ID\n",
            "0 int64 ORIGIN_CITY_MARKET_ID\n",
            "0 int64 ORIGIN_CITY_NAME\n",
            "0 int64 ORIGIN_STATE_ABR\n",
            "0 int64 DEST_AIRPORT_ID\n",
            "0 int64 DEST_CITY_MARKET_ID\n",
            "0 int64 DEST_CITY_NAME\n",
            "0 float64 DEP_TIME\n",
            "0 float64 DEP_DELAY\n",
            "0 float64 ARR_TIME\n",
            "0 float64 ARR_DELAY\n",
            "0 float64 CANCELLED\n",
            "0 float64 DIVERTED\n",
            "0 float64 CRS_ELAPSED_TIME\n",
            "0 float64 ACTUAL_ELAPSED_TIME\n",
            "0 float64 AIR_TIME\n",
            "0 float64 FLIGHTS\n",
            "0 float64 CARRIER_DELAY\n",
            "0 float64 WEATHER_DELAY\n",
            "0 float64 SECURITY_DELAY\n",
            "0 float64 LATE_AIRCRAFT_DELAY\n"
          ]
        }
      ]
    },
    {
      "cell_type": "code",
      "source": [
        "data.shape"
      ],
      "metadata": {
        "colab": {
          "base_uri": "https://localhost:8080/"
        },
        "id": "c6C1-fq3VRJG",
        "outputId": "64e28035-bc91-4176-e649-2e6933e32d61"
      },
      "execution_count": null,
      "outputs": [
        {
          "output_type": "execute_result",
          "data": {
            "text/plain": [
              "(59610, 26)"
            ]
          },
          "metadata": {},
          "execution_count": 24
        }
      ]
    },
    {
      "cell_type": "code",
      "source": [
        "from sklearn.preprocessing import LabelEncoder\n",
        "# Assuming you have a DataFrame called 'data' with categorical columns\n",
        "categorical_columns = [\"OP_UNIQUE_CARRIER\",\"OP_CARRIER\",\"ORIGIN_CITY_NAME\", \"ORIGIN_STATE_ABR\", \"DEST_CITY_NAME\"]\n",
        "\n",
        "label_encoder = LabelEncoder()\n",
        "\n",
        "for column in categorical_columns:\n",
        "    data[column] = label_encoder.fit_transform(data[column])"
      ],
      "metadata": {
        "id": "MTud1z55Vd2U"
      },
      "execution_count": null,
      "outputs": []
    },
    {
      "cell_type": "code",
      "source": [
        "import numpy as np\n",
        "import pandas as pd\n",
        "from sklearn.model_selection import train_test_split\n",
        "from sklearn.preprocessing import StandardScaler\n",
        "from tensorflow.keras.models import Model\n",
        "from tensorflow.keras.layers import Dense, Input\n",
        "\n",
        "\n",
        "# Split the input features (X) and target variables (y)\n",
        "X = data.drop(['ACTUAL_ELAPSED_TIME'], axis=1)\n",
        "y_flight_duration = data['ACTUAL_ELAPSED_TIME']\n",
        "\n",
        "\n",
        "# Split the data into training and testing sets\n",
        "X_train, X_test, y_train_flight_duration,y_test_flight_duration = train_test_split(\n",
        "    X,y_flight_duration, test_size=0.2, random_state=42\n",
        ")\n",
        "\n",
        "# Scale numerical features if necessary\n",
        "scaler = StandardScaler()\n",
        "X_train_scaled = scaler.fit_transform(X_train)\n",
        "X_test_scaled = scaler.transform(X_test)          ## transfroming the test data with learning parameters of train data itself , so fit is not used inoder to avoid data leankage of test data\n"
      ],
      "metadata": {
        "id": "Kjk4XH-iVlww"
      },
      "execution_count": null,
      "outputs": []
    },
    {
      "cell_type": "code",
      "source": [
        "X_train_scaled"
      ],
      "metadata": {
        "colab": {
          "base_uri": "https://localhost:8080/"
        },
        "id": "HKc2FxKzWHwn",
        "outputId": "43bb9f25-d5cd-441a-b7af-6d0c774c43ef"
      },
      "execution_count": null,
      "outputs": [
        {
          "output_type": "execute_result",
          "data": {
            "text/plain": [
              "array([[-1.23587182,  0.56937999, -0.59545213, ..., -0.04572394,\n",
              "        -0.02579494, -0.21654466],\n",
              "       [ 0.37774647,  0.56937999, -0.59545213, ..., -0.04572394,\n",
              "        -0.02579494, -0.21654466],\n",
              "       [ 0.14722957, -0.39848887, -0.4071615 , ..., -0.04572394,\n",
              "        -0.02579494, -0.21654466],\n",
              "       ...,\n",
              "       [-1.81216406,  1.53724886, -0.4071615 , ..., -0.04572394,\n",
              "        -0.02579494, -0.21654466],\n",
              "       [-0.77483802, -0.8824233 , -0.4071615 , ..., -0.04572394,\n",
              "        -0.02579494, -0.21654466],\n",
              "       [ 1.53033096, -1.36635773, -0.4071615 , ..., -0.04572394,\n",
              "        -0.02579494, -0.21654466]])"
            ]
          },
          "metadata": {},
          "execution_count": 27
        }
      ]
    },
    {
      "cell_type": "code",
      "source": [
        "X_train_scaled.shape"
      ],
      "metadata": {
        "colab": {
          "base_uri": "https://localhost:8080/"
        },
        "id": "zBKW1RPTYu2y",
        "outputId": "fe9fcabb-2340-4b18-f220-30bacb4ad5e4"
      },
      "execution_count": null,
      "outputs": [
        {
          "output_type": "execute_result",
          "data": {
            "text/plain": [
              "(47688, 25)"
            ]
          },
          "metadata": {},
          "execution_count": 44
        }
      ]
    },
    {
      "cell_type": "code",
      "source": [
        "X_test_scaled"
      ],
      "metadata": {
        "colab": {
          "base_uri": "https://localhost:8080/"
        },
        "id": "Q9MJKTJBWMsC",
        "outputId": "dc704412-734e-4af0-9b2d-f79039cbbe0b"
      },
      "execution_count": null,
      "outputs": [
        {
          "output_type": "execute_result",
          "data": {
            "text/plain": [
              "array([[ 0.83878026, -0.8824233 ,  1.09916351, ..., -0.04572394,\n",
              "        -0.02579494, -0.21654466],\n",
              "       [ 1.64558941, -0.8824233 , -0.97203338, ..., -0.04572394,\n",
              "        -0.02579494, -0.21654466],\n",
              "       [ 0.14722957, -0.39848887, -0.59545213, ..., -0.04572394,\n",
              "        -0.02579494, -0.21654466],\n",
              "       ...,\n",
              "       [-0.77483802, -0.8824233 , -0.4071615 , ..., -0.04572394,\n",
              "        -0.02579494, -0.21654466],\n",
              "       [ 0.26248802,  0.08544556, -0.4071615 , ..., -0.04572394,\n",
              "        -0.02579494, -0.21654466],\n",
              "       [ 1.64558941, -0.8824233 , -0.4071615 , ..., -0.04572394,\n",
              "        -0.02579494, -0.21654466]])"
            ]
          },
          "metadata": {},
          "execution_count": 28
        }
      ]
    },
    {
      "cell_type": "code",
      "source": [
        "\n",
        "## Part 2 Now lets create the ANN\n",
        "from tensorflow.keras.models import Sequential\n",
        "from tensorflow.keras.layers import Dense\n",
        "from tensorflow.keras.layers import LeakyReLU,PReLU,ELU,ReLU\n",
        "from tensorflow.keras.layers import Dropout"
      ],
      "metadata": {
        "id": "46D_RoFHWO0Y"
      },
      "execution_count": null,
      "outputs": []
    },
    {
      "cell_type": "code",
      "source": [
        "### Lets initialize the ANN\n",
        "regressor=Sequential()"
      ],
      "metadata": {
        "id": "oVjDZrsUiUnE"
      },
      "execution_count": null,
      "outputs": []
    },
    {
      "cell_type": "code",
      "source": [
        "## Adding the input Layer and first hidden layer\n",
        "regressor.add(Dense(10,input_shape=(25,),activation='relu'))"
      ],
      "metadata": {
        "id": "Bo8m9RPsj0Yy"
      },
      "execution_count": null,
      "outputs": []
    },
    {
      "cell_type": "code",
      "source": [
        "regressor"
      ],
      "metadata": {
        "colab": {
          "base_uri": "https://localhost:8080/"
        },
        "id": "-dYkh7xd3rqE",
        "outputId": "21effaf5-f60e-44c2-c018-6ff7ab04ab5e"
      },
      "execution_count": null,
      "outputs": [
        {
          "output_type": "execute_result",
          "data": {
            "text/plain": [
              "<keras.engine.sequential.Sequential at 0x7fbeddc95420>"
            ]
          },
          "metadata": {},
          "execution_count": 48
        }
      ]
    },
    {
      "cell_type": "code",
      "source": [
        "# adding the first hidden layer\n",
        "regressor.add(Dense(units=10,activation='relu'))\n",
        "#classifier.add(Dropout(0.2))"
      ],
      "metadata": {
        "id": "ODyJnkfwkH3Q"
      },
      "execution_count": null,
      "outputs": []
    },
    {
      "cell_type": "code",
      "source": [
        "##adding the second hidden layer\n",
        "regressor.add(Dense(units=10,activation='relu'))\n",
        "#classifier.add(Dropout(0.3))"
      ],
      "metadata": {
        "id": "OUndf0TekSm8"
      },
      "execution_count": null,
      "outputs": []
    },
    {
      "cell_type": "code",
      "source": [
        "##  Adding the output layer\n",
        "regressor.add(Dense(1,activation='linear'))"
      ],
      "metadata": {
        "id": "-rJBPxk8kgMP"
      },
      "execution_count": null,
      "outputs": []
    },
    {
      "cell_type": "code",
      "source": [
        "regressor.summary()"
      ],
      "metadata": {
        "colab": {
          "base_uri": "https://localhost:8080/"
        },
        "id": "uH-eGKb_7Lrv",
        "outputId": "0b068d7f-703a-4414-e0c8-df57c3593274"
      },
      "execution_count": null,
      "outputs": [
        {
          "output_type": "stream",
          "name": "stdout",
          "text": [
            "Model: \"sequential_1\"\n",
            "_________________________________________________________________\n",
            " Layer (type)                Output Shape              Param #   \n",
            "=================================================================\n",
            " dense_4 (Dense)             (None, 10)                260       \n",
            "                                                                 \n",
            " dense_5 (Dense)             (None, 10)                110       \n",
            "                                                                 \n",
            " dense_6 (Dense)             (None, 10)                110       \n",
            "                                                                 \n",
            " dense_7 (Dense)             (None, 1)                 11        \n",
            "                                                                 \n",
            "=================================================================\n",
            "Total params: 491\n",
            "Trainable params: 491\n",
            "Non-trainable params: 0\n",
            "_________________________________________________________________\n"
          ]
        }
      ]
    },
    {
      "cell_type": "code",
      "source": [
        "import tensorflow\n",
        "opt=tensorflow.keras.optimizers.Adam(learning_rate=0.01)"
      ],
      "metadata": {
        "id": "1Pt7ka6pYVfi"
      },
      "execution_count": null,
      "outputs": []
    },
    {
      "cell_type": "code",
      "source": [
        "regressor.compile(optimizer=opt, loss='mean_squared_error', metrics=['mean_absolute_error'])"
      ],
      "metadata": {
        "id": "TmWWsD5akttu"
      },
      "execution_count": null,
      "outputs": []
    },
    {
      "cell_type": "code",
      "source": [
        "## Early Stopping\n",
        "import tensorflow as tf\n",
        "early_stopping=tf.keras.callbacks.EarlyStopping(\n",
        "    monitor=\"val_loss\",\n",
        "    patience=5\n",
        "\n",
        ")"
      ],
      "metadata": {
        "id": "erpq8sGEmevo"
      },
      "execution_count": null,
      "outputs": []
    },
    {
      "cell_type": "code",
      "source": [
        "X_train.shape"
      ],
      "metadata": {
        "colab": {
          "base_uri": "https://localhost:8080/"
        },
        "id": "0ka0-AfR-xwI",
        "outputId": "fb7b2e9f-47ce-4093-bc9b-751c469eef25"
      },
      "execution_count": null,
      "outputs": [
        {
          "output_type": "execute_result",
          "data": {
            "text/plain": [
              "(47688, 25)"
            ]
          },
          "metadata": {},
          "execution_count": 56
        }
      ]
    },
    {
      "cell_type": "code",
      "source": [
        "model_history=regressor.fit(X_train_scaled,y_train_flight_duration,validation_data=(X_test_scaled,y_test_flight_duration),batch_size=10,epochs=10,callbacks=early_stopping)"
      ],
      "metadata": {
        "colab": {
          "base_uri": "https://localhost:8080/"
        },
        "id": "zJTKdNbBYm2l",
        "outputId": "3b677d29-45cc-438f-bc58-867df8cede6a"
      },
      "execution_count": null,
      "outputs": [
        {
          "output_type": "stream",
          "name": "stdout",
          "text": [
            "Epoch 1/10\n",
            "4769/4769 [==============================] - 18s 4ms/step - loss: 193.8158 - mean_absolute_error: 4.2534 - val_loss: 57.7228 - val_mean_absolute_error: 3.5012\n",
            "Epoch 2/10\n",
            "4769/4769 [==============================] - 19s 4ms/step - loss: 44.5238 - mean_absolute_error: 2.5500 - val_loss: 16.3301 - val_mean_absolute_error: 1.0980\n",
            "Epoch 3/10\n",
            "4769/4769 [==============================] - 20s 4ms/step - loss: 20.2699 - mean_absolute_error: 2.0886 - val_loss: 7.5347 - val_mean_absolute_error: 1.0665\n",
            "Epoch 4/10\n",
            "4769/4769 [==============================] - 21s 4ms/step - loss: 11.7861 - mean_absolute_error: 1.4841 - val_loss: 11.9628 - val_mean_absolute_error: 1.3316\n",
            "Epoch 5/10\n",
            "4769/4769 [==============================] - 27s 6ms/step - loss: 12.6965 - mean_absolute_error: 1.3774 - val_loss: 10.3817 - val_mean_absolute_error: 1.1922\n",
            "Epoch 6/10\n",
            "4769/4769 [==============================] - 21s 4ms/step - loss: 10.2049 - mean_absolute_error: 1.4352 - val_loss: 7.5194 - val_mean_absolute_error: 1.4338\n",
            "Epoch 7/10\n",
            "4769/4769 [==============================] - 22s 5ms/step - loss: 7.2135 - mean_absolute_error: 1.0702 - val_loss: 13.9182 - val_mean_absolute_error: 1.3255\n",
            "Epoch 8/10\n",
            "4769/4769 [==============================] - 20s 4ms/step - loss: 5.6080 - mean_absolute_error: 0.9689 - val_loss: 14.8756 - val_mean_absolute_error: 1.2586\n",
            "Epoch 9/10\n",
            "4769/4769 [==============================] - 22s 5ms/step - loss: 4.6794 - mean_absolute_error: 0.9690 - val_loss: 9.8191 - val_mean_absolute_error: 2.1770\n",
            "Epoch 10/10\n",
            "4769/4769 [==============================] - 19s 4ms/step - loss: 4.2394 - mean_absolute_error: 0.9379 - val_loss: 6.9799 - val_mean_absolute_error: 1.1788\n"
          ]
        }
      ]
    },
    {
      "cell_type": "code",
      "source": [
        "# ... Existing code ...\n",
        "\n",
        "# Save the trained model\n",
        "regressor.save(\"ann_model.h5\")\n",
        "\n",
        "# Load the saved model\n",
        "from tensorflow.keras.models import load_model\n",
        "loaded_model = load_model(\"ann_model.h5\")\n",
        "\n",
        "# Make predictions using the loaded model\n",
        "predicted_flight_duration = loaded_model.predict(X_test_scaled)"
      ],
      "metadata": {
        "colab": {
          "base_uri": "https://localhost:8080/"
        },
        "id": "9DMG9bvacssC",
        "outputId": "7881a195-1b3b-4423-f23b-96be42182ce0"
      },
      "execution_count": null,
      "outputs": [
        {
          "output_type": "stream",
          "name": "stdout",
          "text": [
            "373/373 [==============================] - 1s 3ms/step\n"
          ]
        }
      ]
    },
    {
      "cell_type": "code",
      "source": [
        "predicted_flight_duration"
      ],
      "metadata": {
        "colab": {
          "base_uri": "https://localhost:8080/"
        },
        "id": "xmwotXlNbqag",
        "outputId": "95a1db5a-d908-4c9a-8bcc-a712d276955d"
      },
      "execution_count": null,
      "outputs": [
        {
          "output_type": "execute_result",
          "data": {
            "text/plain": [
              "array([[124.448326],\n",
              "       [413.07455 ],\n",
              "       [203.77895 ],\n",
              "       ...,\n",
              "       [293.36703 ],\n",
              "       [182.10481 ],\n",
              "       [ 62.32234 ]], dtype=float32)"
            ]
          },
          "metadata": {},
          "execution_count": 66
        }
      ]
    },
    {
      "cell_type": "code",
      "source": [
        "df_duration = pd.DataFrame(predicted_flight_duration)\n",
        "df_duration.max(), df_duration.min()"
      ],
      "metadata": {
        "colab": {
          "base_uri": "https://localhost:8080/"
        },
        "id": "me59VPoVbtPp",
        "outputId": "f39171b5-e181-4452-9bff-a6b364ac5372"
      },
      "execution_count": null,
      "outputs": [
        {
          "output_type": "execute_result",
          "data": {
            "text/plain": [
              "(0    725.431641\n",
              " dtype: float32,\n",
              " 0    49.014805\n",
              " dtype: float32)"
            ]
          },
          "metadata": {},
          "execution_count": 67
        }
      ]
    },
    {
      "cell_type": "code",
      "source": [
        "df['ACTUAL_ELAPSED_TIME'].max()"
      ],
      "metadata": {
        "colab": {
          "base_uri": "https://localhost:8080/"
        },
        "id": "Kx5K71mydQkq",
        "outputId": "dea3f3d2-ef16-4bad-8695-682a40a10f21"
      },
      "execution_count": null,
      "outputs": [
        {
          "output_type": "execute_result",
          "data": {
            "text/plain": [
              "749.0"
            ]
          },
          "metadata": {},
          "execution_count": 68
        }
      ]
    },
    {
      "cell_type": "code",
      "source": [
        "pd.DataFrame(predicted_flight_duration).head(20)"
      ],
      "metadata": {
        "colab": {
          "base_uri": "https://localhost:8080/",
          "height": 677
        },
        "id": "VY3-c9b6dk2f",
        "outputId": "72d7e720-2fdb-4603-a814-81b21eb42fc2"
      },
      "execution_count": null,
      "outputs": [
        {
          "output_type": "execute_result",
          "data": {
            "text/plain": [
              "             0\n",
              "0   124.448326\n",
              "1   413.074554\n",
              "2   203.778946\n",
              "3   138.396576\n",
              "4   159.954025\n",
              "5    80.759651\n",
              "6   130.315613\n",
              "7   166.599106\n",
              "8    74.714592\n",
              "9   132.613617\n",
              "10  131.305435\n",
              "11  579.043335\n",
              "12  355.971405\n",
              "13  102.133514\n",
              "14  154.072342\n",
              "15  154.481049\n",
              "16   91.973373\n",
              "17  338.906189\n",
              "18  107.127213\n",
              "19  121.765831"
            ],
            "text/html": [
              "\n",
              "\n",
              "  <div id=\"df-1f20657c-88ec-4933-b145-535fc9c09299\">\n",
              "    <div class=\"colab-df-container\">\n",
              "      <div>\n",
              "<style scoped>\n",
              "    .dataframe tbody tr th:only-of-type {\n",
              "        vertical-align: middle;\n",
              "    }\n",
              "\n",
              "    .dataframe tbody tr th {\n",
              "        vertical-align: top;\n",
              "    }\n",
              "\n",
              "    .dataframe thead th {\n",
              "        text-align: right;\n",
              "    }\n",
              "</style>\n",
              "<table border=\"1\" class=\"dataframe\">\n",
              "  <thead>\n",
              "    <tr style=\"text-align: right;\">\n",
              "      <th></th>\n",
              "      <th>0</th>\n",
              "    </tr>\n",
              "  </thead>\n",
              "  <tbody>\n",
              "    <tr>\n",
              "      <th>0</th>\n",
              "      <td>124.448326</td>\n",
              "    </tr>\n",
              "    <tr>\n",
              "      <th>1</th>\n",
              "      <td>413.074554</td>\n",
              "    </tr>\n",
              "    <tr>\n",
              "      <th>2</th>\n",
              "      <td>203.778946</td>\n",
              "    </tr>\n",
              "    <tr>\n",
              "      <th>3</th>\n",
              "      <td>138.396576</td>\n",
              "    </tr>\n",
              "    <tr>\n",
              "      <th>4</th>\n",
              "      <td>159.954025</td>\n",
              "    </tr>\n",
              "    <tr>\n",
              "      <th>5</th>\n",
              "      <td>80.759651</td>\n",
              "    </tr>\n",
              "    <tr>\n",
              "      <th>6</th>\n",
              "      <td>130.315613</td>\n",
              "    </tr>\n",
              "    <tr>\n",
              "      <th>7</th>\n",
              "      <td>166.599106</td>\n",
              "    </tr>\n",
              "    <tr>\n",
              "      <th>8</th>\n",
              "      <td>74.714592</td>\n",
              "    </tr>\n",
              "    <tr>\n",
              "      <th>9</th>\n",
              "      <td>132.613617</td>\n",
              "    </tr>\n",
              "    <tr>\n",
              "      <th>10</th>\n",
              "      <td>131.305435</td>\n",
              "    </tr>\n",
              "    <tr>\n",
              "      <th>11</th>\n",
              "      <td>579.043335</td>\n",
              "    </tr>\n",
              "    <tr>\n",
              "      <th>12</th>\n",
              "      <td>355.971405</td>\n",
              "    </tr>\n",
              "    <tr>\n",
              "      <th>13</th>\n",
              "      <td>102.133514</td>\n",
              "    </tr>\n",
              "    <tr>\n",
              "      <th>14</th>\n",
              "      <td>154.072342</td>\n",
              "    </tr>\n",
              "    <tr>\n",
              "      <th>15</th>\n",
              "      <td>154.481049</td>\n",
              "    </tr>\n",
              "    <tr>\n",
              "      <th>16</th>\n",
              "      <td>91.973373</td>\n",
              "    </tr>\n",
              "    <tr>\n",
              "      <th>17</th>\n",
              "      <td>338.906189</td>\n",
              "    </tr>\n",
              "    <tr>\n",
              "      <th>18</th>\n",
              "      <td>107.127213</td>\n",
              "    </tr>\n",
              "    <tr>\n",
              "      <th>19</th>\n",
              "      <td>121.765831</td>\n",
              "    </tr>\n",
              "  </tbody>\n",
              "</table>\n",
              "</div>\n",
              "      <button class=\"colab-df-convert\" onclick=\"convertToInteractive('df-1f20657c-88ec-4933-b145-535fc9c09299')\"\n",
              "              title=\"Convert this dataframe to an interactive table.\"\n",
              "              style=\"display:none;\">\n",
              "\n",
              "  <svg xmlns=\"http://www.w3.org/2000/svg\" height=\"24px\"viewBox=\"0 0 24 24\"\n",
              "       width=\"24px\">\n",
              "    <path d=\"M0 0h24v24H0V0z\" fill=\"none\"/>\n",
              "    <path d=\"M18.56 5.44l.94 2.06.94-2.06 2.06-.94-2.06-.94-.94-2.06-.94 2.06-2.06.94zm-11 1L8.5 8.5l.94-2.06 2.06-.94-2.06-.94L8.5 2.5l-.94 2.06-2.06.94zm10 10l.94 2.06.94-2.06 2.06-.94-2.06-.94-.94-2.06-.94 2.06-2.06.94z\"/><path d=\"M17.41 7.96l-1.37-1.37c-.4-.4-.92-.59-1.43-.59-.52 0-1.04.2-1.43.59L10.3 9.45l-7.72 7.72c-.78.78-.78 2.05 0 2.83L4 21.41c.39.39.9.59 1.41.59.51 0 1.02-.2 1.41-.59l7.78-7.78 2.81-2.81c.8-.78.8-2.07 0-2.86zM5.41 20L4 18.59l7.72-7.72 1.47 1.35L5.41 20z\"/>\n",
              "  </svg>\n",
              "      </button>\n",
              "\n",
              "\n",
              "\n",
              "    <div id=\"df-d949812d-2059-4466-b412-eb4640ebc88c\">\n",
              "      <button class=\"colab-df-quickchart\" onclick=\"quickchart('df-d949812d-2059-4466-b412-eb4640ebc88c')\"\n",
              "              title=\"Suggest charts.\"\n",
              "              style=\"display:none;\">\n",
              "\n",
              "<svg xmlns=\"http://www.w3.org/2000/svg\" height=\"24px\"viewBox=\"0 0 24 24\"\n",
              "     width=\"24px\">\n",
              "    <g>\n",
              "        <path d=\"M19 3H5c-1.1 0-2 .9-2 2v14c0 1.1.9 2 2 2h14c1.1 0 2-.9 2-2V5c0-1.1-.9-2-2-2zM9 17H7v-7h2v7zm4 0h-2V7h2v10zm4 0h-2v-4h2v4z\"/>\n",
              "    </g>\n",
              "</svg>\n",
              "      </button>\n",
              "    </div>\n",
              "\n",
              "<style>\n",
              "  .colab-df-quickchart {\n",
              "    background-color: #E8F0FE;\n",
              "    border: none;\n",
              "    border-radius: 50%;\n",
              "    cursor: pointer;\n",
              "    display: none;\n",
              "    fill: #1967D2;\n",
              "    height: 32px;\n",
              "    padding: 0 0 0 0;\n",
              "    width: 32px;\n",
              "  }\n",
              "\n",
              "  .colab-df-quickchart:hover {\n",
              "    background-color: #E2EBFA;\n",
              "    box-shadow: 0px 1px 2px rgba(60, 64, 67, 0.3), 0px 1px 3px 1px rgba(60, 64, 67, 0.15);\n",
              "    fill: #174EA6;\n",
              "  }\n",
              "\n",
              "  [theme=dark] .colab-df-quickchart {\n",
              "    background-color: #3B4455;\n",
              "    fill: #D2E3FC;\n",
              "  }\n",
              "\n",
              "  [theme=dark] .colab-df-quickchart:hover {\n",
              "    background-color: #434B5C;\n",
              "    box-shadow: 0px 1px 3px 1px rgba(0, 0, 0, 0.15);\n",
              "    filter: drop-shadow(0px 1px 2px rgba(0, 0, 0, 0.3));\n",
              "    fill: #FFFFFF;\n",
              "  }\n",
              "</style>\n",
              "\n",
              "    <script>\n",
              "      async function quickchart(key) {\n",
              "        const containerElement = document.querySelector('#' + key);\n",
              "        const charts = await google.colab.kernel.invokeFunction(\n",
              "            'suggestCharts', [key], {});\n",
              "      }\n",
              "    </script>\n",
              "\n",
              "      <script>\n",
              "\n",
              "function displayQuickchartButton(domScope) {\n",
              "  let quickchartButtonEl =\n",
              "    domScope.querySelector('#df-d949812d-2059-4466-b412-eb4640ebc88c button.colab-df-quickchart');\n",
              "  quickchartButtonEl.style.display =\n",
              "    google.colab.kernel.accessAllowed ? 'block' : 'none';\n",
              "}\n",
              "\n",
              "        displayQuickchartButton(document);\n",
              "      </script>\n",
              "      <style>\n",
              "    .colab-df-container {\n",
              "      display:flex;\n",
              "      flex-wrap:wrap;\n",
              "      gap: 12px;\n",
              "    }\n",
              "\n",
              "    .colab-df-convert {\n",
              "      background-color: #E8F0FE;\n",
              "      border: none;\n",
              "      border-radius: 50%;\n",
              "      cursor: pointer;\n",
              "      display: none;\n",
              "      fill: #1967D2;\n",
              "      height: 32px;\n",
              "      padding: 0 0 0 0;\n",
              "      width: 32px;\n",
              "    }\n",
              "\n",
              "    .colab-df-convert:hover {\n",
              "      background-color: #E2EBFA;\n",
              "      box-shadow: 0px 1px 2px rgba(60, 64, 67, 0.3), 0px 1px 3px 1px rgba(60, 64, 67, 0.15);\n",
              "      fill: #174EA6;\n",
              "    }\n",
              "\n",
              "    [theme=dark] .colab-df-convert {\n",
              "      background-color: #3B4455;\n",
              "      fill: #D2E3FC;\n",
              "    }\n",
              "\n",
              "    [theme=dark] .colab-df-convert:hover {\n",
              "      background-color: #434B5C;\n",
              "      box-shadow: 0px 1px 3px 1px rgba(0, 0, 0, 0.15);\n",
              "      filter: drop-shadow(0px 1px 2px rgba(0, 0, 0, 0.3));\n",
              "      fill: #FFFFFF;\n",
              "    }\n",
              "  </style>\n",
              "\n",
              "      <script>\n",
              "        const buttonEl =\n",
              "          document.querySelector('#df-1f20657c-88ec-4933-b145-535fc9c09299 button.colab-df-convert');\n",
              "        buttonEl.style.display =\n",
              "          google.colab.kernel.accessAllowed ? 'block' : 'none';\n",
              "\n",
              "        async function convertToInteractive(key) {\n",
              "          const element = document.querySelector('#df-1f20657c-88ec-4933-b145-535fc9c09299');\n",
              "          const dataTable =\n",
              "            await google.colab.kernel.invokeFunction('convertToInteractive',\n",
              "                                                     [key], {});\n",
              "          if (!dataTable) return;\n",
              "\n",
              "          const docLinkHtml = 'Like what you see? Visit the ' +\n",
              "            '<a target=\"_blank\" href=https://colab.research.google.com/notebooks/data_table.ipynb>data table notebook</a>'\n",
              "            + ' to learn more about interactive tables.';\n",
              "          element.innerHTML = '';\n",
              "          dataTable['output_type'] = 'display_data';\n",
              "          await google.colab.output.renderOutput(dataTable, element);\n",
              "          const docLink = document.createElement('div');\n",
              "          docLink.innerHTML = docLinkHtml;\n",
              "          element.appendChild(docLink);\n",
              "        }\n",
              "      </script>\n",
              "    </div>\n",
              "  </div>\n"
            ]
          },
          "metadata": {},
          "execution_count": 69
        }
      ]
    },
    {
      "cell_type": "code",
      "source": [],
      "metadata": {
        "id": "jarvvzE0fMKm"
      },
      "execution_count": null,
      "outputs": []
    }
  ]
}